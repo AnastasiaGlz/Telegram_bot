{
  "cells": [
    {
      "cell_type": "code",
      "execution_count": null,
      "metadata": {
        "colab": {
          "base_uri": "https://localhost:8080/"
        },
        "id": "wpX3wLZWwZ4s",
        "outputId": "5b7be953-9694-48fa-f074-52b803cfad19"
      },
      "outputs": [
        {
          "name": "stdout",
          "output_type": "stream",
          "text": [
            "Collecting aiogram\n",
            "  Downloading aiogram-3.15.0-py3-none-any.whl.metadata (7.5 kB)\n",
            "Collecting aiofiles<24.2,>=23.2.1 (from aiogram)\n",
            "  Downloading aiofiles-24.1.0-py3-none-any.whl.metadata (10 kB)\n",
            "Collecting aiohttp<3.11,>=3.9.0 (from aiogram)\n",
            "  Downloading aiohttp-3.10.11-cp310-cp310-manylinux_2_17_x86_64.manylinux2014_x86_64.whl.metadata (7.7 kB)\n",
            "Requirement already satisfied: certifi>=2023.7.22 in /usr/local/lib/python3.10/dist-packages (from aiogram) (2024.8.30)\n",
            "Collecting magic-filter<1.1,>=1.0.12 (from aiogram)\n",
            "  Downloading magic_filter-1.0.12-py3-none-any.whl.metadata (1.5 kB)\n",
            "Collecting pydantic<2.10,>=2.4.1 (from aiogram)\n",
            "  Downloading pydantic-2.9.2-py3-none-any.whl.metadata (149 kB)\n",
            "\u001b[2K     \u001b[90m━━━━━━━━━━━━━━━━━━━━━━━━━━━━━━━━━━━━━━━━\u001b[0m \u001b[32m149.4/149.4 kB\u001b[0m \u001b[31m3.6 MB/s\u001b[0m eta \u001b[36m0:00:00\u001b[0m\n",
            "\u001b[?25hRequirement already satisfied: typing-extensions<=5.0,>=4.7.0 in /usr/local/lib/python3.10/dist-packages (from aiogram) (4.12.2)\n",
            "Requirement already satisfied: aiohappyeyeballs>=2.3.0 in /usr/local/lib/python3.10/dist-packages (from aiohttp<3.11,>=3.9.0->aiogram) (2.4.4)\n",
            "Requirement already satisfied: aiosignal>=1.1.2 in /usr/local/lib/python3.10/dist-packages (from aiohttp<3.11,>=3.9.0->aiogram) (1.3.1)\n",
            "Requirement already satisfied: attrs>=17.3.0 in /usr/local/lib/python3.10/dist-packages (from aiohttp<3.11,>=3.9.0->aiogram) (24.2.0)\n",
            "Requirement already satisfied: frozenlist>=1.1.1 in /usr/local/lib/python3.10/dist-packages (from aiohttp<3.11,>=3.9.0->aiogram) (1.5.0)\n",
            "Requirement already satisfied: multidict<7.0,>=4.5 in /usr/local/lib/python3.10/dist-packages (from aiohttp<3.11,>=3.9.0->aiogram) (6.1.0)\n",
            "Requirement already satisfied: yarl<2.0,>=1.12.0 in /usr/local/lib/python3.10/dist-packages (from aiohttp<3.11,>=3.9.0->aiogram) (1.18.3)\n",
            "Requirement already satisfied: async-timeout<6.0,>=4.0 in /usr/local/lib/python3.10/dist-packages (from aiohttp<3.11,>=3.9.0->aiogram) (4.0.3)\n",
            "Requirement already satisfied: annotated-types>=0.6.0 in /usr/local/lib/python3.10/dist-packages (from pydantic<2.10,>=2.4.1->aiogram) (0.7.0)\n",
            "Collecting pydantic-core==2.23.4 (from pydantic<2.10,>=2.4.1->aiogram)\n",
            "  Downloading pydantic_core-2.23.4-cp310-cp310-manylinux_2_17_x86_64.manylinux2014_x86_64.whl.metadata (6.6 kB)\n",
            "Requirement already satisfied: idna>=2.0 in /usr/local/lib/python3.10/dist-packages (from yarl<2.0,>=1.12.0->aiohttp<3.11,>=3.9.0->aiogram) (3.10)\n",
            "Requirement already satisfied: propcache>=0.2.0 in /usr/local/lib/python3.10/dist-packages (from yarl<2.0,>=1.12.0->aiohttp<3.11,>=3.9.0->aiogram) (0.2.1)\n",
            "Downloading aiogram-3.15.0-py3-none-any.whl (603 kB)\n",
            "\u001b[2K   \u001b[90m━━━━━━━━━━━━━━━━━━━━━━━━━━━━━━━━━━━━━━━━\u001b[0m \u001b[32m603.9/603.9 kB\u001b[0m \u001b[31m18.0 MB/s\u001b[0m eta \u001b[36m0:00:00\u001b[0m\n",
            "\u001b[?25hDownloading aiofiles-24.1.0-py3-none-any.whl (15 kB)\n",
            "Downloading aiohttp-3.10.11-cp310-cp310-manylinux_2_17_x86_64.manylinux2014_x86_64.whl (1.2 MB)\n",
            "\u001b[2K   \u001b[90m━━━━━━━━━━━━━━━━━━━━━━━━━━━━━━━━━━━━━━━━\u001b[0m \u001b[32m1.2/1.2 MB\u001b[0m \u001b[31m31.2 MB/s\u001b[0m eta \u001b[36m0:00:00\u001b[0m\n",
            "\u001b[?25hDownloading magic_filter-1.0.12-py3-none-any.whl (11 kB)\n",
            "Downloading pydantic-2.9.2-py3-none-any.whl (434 kB)\n",
            "\u001b[2K   \u001b[90m━━━━━━━━━━━━━━━━━━━━━━━━━━━━━━━━━━━━━━━━\u001b[0m \u001b[32m434.9/434.9 kB\u001b[0m \u001b[31m24.9 MB/s\u001b[0m eta \u001b[36m0:00:00\u001b[0m\n",
            "\u001b[?25hDownloading pydantic_core-2.23.4-cp310-cp310-manylinux_2_17_x86_64.manylinux2014_x86_64.whl (2.1 MB)\n",
            "\u001b[2K   \u001b[90m━━━━━━━━━━━━━━━━━━━━━━━━━━━━━━━━━━━━━━━━\u001b[0m \u001b[32m2.1/2.1 MB\u001b[0m \u001b[31m49.7 MB/s\u001b[0m eta \u001b[36m0:00:00\u001b[0m\n",
            "\u001b[?25hInstalling collected packages: pydantic-core, magic-filter, aiofiles, pydantic, aiohttp, aiogram\n",
            "  Attempting uninstall: pydantic-core\n",
            "    Found existing installation: pydantic_core 2.27.1\n",
            "    Uninstalling pydantic_core-2.27.1:\n",
            "      Successfully uninstalled pydantic_core-2.27.1\n",
            "  Attempting uninstall: pydantic\n",
            "    Found existing installation: pydantic 2.10.3\n",
            "    Uninstalling pydantic-2.10.3:\n",
            "      Successfully uninstalled pydantic-2.10.3\n",
            "  Attempting uninstall: aiohttp\n",
            "    Found existing installation: aiohttp 3.11.10\n",
            "    Uninstalling aiohttp-3.11.10:\n",
            "      Successfully uninstalled aiohttp-3.11.10\n",
            "Successfully installed aiofiles-24.1.0 aiogram-3.15.0 aiohttp-3.10.11 magic-filter-1.0.12 pydantic-2.9.2 pydantic-core-2.23.4\n"
          ]
        }
      ],
      "source": [
        "!pip install aiogram"
      ]
    },
    {
      "cell_type": "code",
      "execution_count": null,
      "metadata": {
        "id": "Imyl5et5yC1v"
      },
      "outputs": [],
      "source": [
        "TOKEN='7644181378:AAFdN0fTlgamT5hstPPmqYhK352ou_Cq0vY'"
      ]
    },
    {
      "cell_type": "code",
      "execution_count": null,
      "metadata": {
        "colab": {
          "background_save": true
        },
        "id": "Exwhh01KnN28",
        "outputId": "18bafa11-fd9e-4c1c-a91c-23e8c32728bb"
      },
      "outputs": [
        {
          "name": "stderr",
          "output_type": "stream",
          "text": [
            "ERROR:aiogram.dispatcher:Failed to fetch updates - TelegramNetworkError: HTTP Client says - ServerDisconnectedError: Server disconnected\n",
            "WARNING:aiogram.dispatcher:Sleep for 1.000000 seconds and try again... (tryings = 0, bot id = 7644181378)\n"
          ]
        }
      ],
      "source": [
        "from aiogram import Bot, Dispatcher\n",
        "from aiogram import F, Router\n",
        "from aiogram.filters.command import Command\n",
        "from aiogram.utils.keyboard import ReplyKeyboardBuilder, ReplyKeyboardMarkup, KeyboardButton\n",
        "from aiogram.types import KeyboardButtonPollType\n",
        "from aiogram.types import BotCommand, BotCommandScopeDefault\n",
        "from aiogram.types import InlineKeyboardMarkup, InlineKeyboardButton, WebAppInfo\n",
        "from aiogram.types import Message, CallbackQuery\n",
        "from aiogram.fsm.state import State, StatesGroup\n",
        "from aiogram.fsm.context import FSMContext\n",
        "\n",
        "\n",
        "dp = Dispatcher()\n",
        "bot = Bot(TOKEN)\n",
        "\n",
        "\n",
        "# код с ипользованием имени пользователя в телеграмме\n",
        "@dp.message(Command('hello_name'))\n",
        "async def command_hello_name(message):\n",
        "  await message.answer('Привет, ' +  message.from_user.full_name)\n",
        "\n",
        "# создания кнопок - reply клавиатуры\n",
        "def test_kb(user_telegram_id: int) -> ReplyKeyboardMarkup:\n",
        "    kb_list = [\n",
        "        [KeyboardButton(text=\"О нас\"), KeyboardButton(text=\"Профиль\")],\n",
        "        [KeyboardButton(text=\"Заполнить анкету\")], [KeyboardButton(text=\"История запросов\")]\n",
        "    ]\n",
        "    keyboard = ReplyKeyboardMarkup(keyboard=kb_list, resize_keyboard=True, one_time_keyboard=True)\n",
        "    return keyboard\n",
        "\n",
        "# стартовая команда и обработка сообщений формата \"/название команды\"\n",
        "@dp.message(Command('start'))\n",
        "async def command_start(message):\n",
        "  await message.answer('Привет👋, я твой бот-помощник! Выбери функцию, которой хочешь воспользоваться', reply_markup=test_kb(message.from_user.id))\n",
        "\n",
        "# функциz help. она отправляет все возможности бота\n",
        "@dp.message(Command('help'))\n",
        "async def command_help(message):\n",
        "  await message.answer(\"\"\"Всегда рад тебе помочь! Вот список команд, которые я могу выполнить\n",
        "    /start - приветствие\n",
        "    /help - расскажу о том, что я умею\n",
        "    /spec_kb - тут можно воспользоваться специальной клавиатурой\"\"\")\n",
        "\n",
        "# реакция бота на конкретный текст\n",
        "@dp.message(F.text == 'Заполнить анкету')\n",
        "async def get_inline_btn_link(message: Message):\n",
        "    await message.answer('Вы можете выполнить заполнение анкеты')\n",
        "\n",
        "# реакция бота на конкретный текст\n",
        "@dp.message(F.text == 'О нас')\n",
        "async def get_inline_btn_link(message: Message):\n",
        "    await message.answer('👋Привет\\n✅Наш бот предлагает новый рецепт каждый день, для этого вам нужно подписаться на получение ежедневных рекомендаций.\\n🍽️Вы можете запрашивать рецепты по категориям, таким как завтрак, обед, ужин, десерты, вегетарианские блюда и многое другое.\\n📚Бот предоставляет пошаговые инструкции, список ингридиентов, советы по приготовлению и составлению полного рациона на день.\\n👍Также, у вас есть возможность оценивать рецепты и оставлять комментарии.')\n",
        "\n",
        "# реакция бота на конкретный текст\n",
        "@dp.message(F.text == 'Профиль')\n",
        "async def get_inline_btn_link(message: Message):\n",
        "    await message.answer('Ваши данные:')\n",
        "\n",
        "# реакция бота на конкретный текст\n",
        "@dp.message(F.text == 'История запросов')\n",
        "async def get_inline_btn_link(message: Message):\n",
        "    await message.answer('История запросов:')\n",
        "\n",
        "# меню бота\n",
        "async def set_commands():\n",
        "    commands = [BotCommand(command='start', description='Старт'),\n",
        "                BotCommand(command='help', description='Помощь'),\n",
        "                BotCommand(command='spec_kb', description='Специальная клавиатура')]\n",
        "    await bot.set_my_commands(commands, BotCommandScopeDefault())\n",
        "\n",
        "\n",
        "await dp.start_polling(bot)\n",
        "await set_commands()"
      ]
    },
    {
      "cell_type": "code",
      "execution_count": null,
      "metadata": {
        "id": "jXbQQtGnzCrR"
      },
      "outputs": [],
      "source": []
    }
  ],
  "metadata": {
    "colab": {
      "provenance": [],
      "name": "Telegram_bot.ipynb"
    },
    "kernelspec": {
      "display_name": "Python 3",
      "name": "python3"
    },
    "language_info": {
      "name": "python"
    }
  },
  "nbformat": 4,
  "nbformat_minor": 0
}